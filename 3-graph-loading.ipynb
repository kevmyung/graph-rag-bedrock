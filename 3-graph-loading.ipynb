{
 "cells": [
  {
   "cell_type": "markdown",
   "metadata": {},
   "source": [
    "# Neo4j에 그래프 로드"
   ]
  },
  {
   "cell_type": "code",
   "execution_count": 17,
   "metadata": {},
   "outputs": [],
   "source": [
    "import os\n",
    "os.environ[\"NEO4J_URI\"] = \"bolt://localhost:7687\"\n",
    "os.environ[\"NEO4J_USERNAME\"] = \"neo4j\"\n",
    "os.environ[\"NEO4J_PASSWORD\"] = \"password\""
   ]
  },
  {
   "cell_type": "code",
   "execution_count": 18,
   "metadata": {},
   "outputs": [],
   "source": [
    "import pickle\n",
    "\n",
    "with open('samples/graph_docs.pkl', 'rb') as f:\n",
    "    loaded_graph_docs = pickle.load(f)"
   ]
  },
  {
   "cell_type": "code",
   "execution_count": 19,
   "metadata": {},
   "outputs": [],
   "source": [
    "from langchain.graphs import Neo4jGraph\n",
    "from py2neo import Graph\n",
    "\n",
    "def init_graph(vector_search_enabled: bool):\n",
    "    py_graph.run(\"MATCH (n) DETACH DELETE n\")\n",
    "\n",
    "    if vector_search_enabled:\n",
    "        py_graph.run(\"\"\"\n",
    "        CREATE VECTOR INDEX content_embedding_index IF NOT EXISTS\n",
    "        FOR (n:Content) ON (n.embedding)\n",
    "        OPTIONS {\n",
    "            indexConfig: {\n",
    "                `vector.dimensions`: 1024,\n",
    "                `vector.similarity_function`: 'cosine'\n",
    "            }\n",
    "        }\n",
    "        \"\"\")\n",
    "\n",
    "py_graph = Graph()\n",
    "n4j_graph = Neo4jGraph()\n",
    "\n",
    "vector_search_enabled = False\n",
    "init_graph(vector_search_enabled)"
   ]
  },
  {
   "cell_type": "code",
   "execution_count": 20,
   "metadata": {},
   "outputs": [],
   "source": [
    "n4j_graph.add_graph_documents(\n",
    "  loaded_graph_docs, \n",
    "  baseEntityLabel=True\n",
    ")"
   ]
  },
  {
   "cell_type": "code",
   "execution_count": 21,
   "metadata": {},
   "outputs": [],
   "source": [
    "from langchain_aws import BedrockEmbeddings\n",
    "from langchain.vectorstores import Neo4jVector\n",
    "\n",
    "embeddings = BedrockEmbeddings(model_id=\"cohere.embed-multilingual-v3\", region_name=\"us-east-1\")\n",
    "\n",
    "vector_store = Neo4jVector.from_existing_index(\n",
    "    embedding=embeddings,\n",
    "    index_name=\"content_embedding_index\",\n",
    "    node_label=\"Content\",\n",
    "    text_node_property=\"text\", \n",
    "    embedding_node_property=\"embedding\"\n",
    ")"
   ]
  },
  {
   "cell_type": "code",
   "execution_count": 22,
   "metadata": {},
   "outputs": [],
   "source": [
    "if vector_search_enabled:\n",
    "    query = \"No Code RAG\"\n",
    "    results = vector_store.similarity_search(query, k=10)\n",
    "    for result in results:\n",
    "        print(\"=================\\n\")\n",
    "        print(result.page_content)\n",
    "        print(\"=================\\n\")"
   ]
  }
 ],
 "metadata": {
  "kernelspec": {
   "display_name": "base",
   "language": "python",
   "name": "python3"
  },
  "language_info": {
   "codemirror_mode": {
    "name": "ipython",
    "version": 3
   },
   "file_extension": ".py",
   "mimetype": "text/x-python",
   "name": "python",
   "nbconvert_exporter": "python",
   "pygments_lexer": "ipython3",
   "version": "3.10.9"
  }
 },
 "nbformat": 4,
 "nbformat_minor": 2
}
