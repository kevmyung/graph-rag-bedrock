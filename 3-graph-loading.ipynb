{
 "cells": [
  {
   "cell_type": "markdown",
   "metadata": {},
   "source": [
    "# Neo4j에 그래프 로드"
   ]
  },
  {
   "cell_type": "code",
   "execution_count": null,
   "metadata": {},
   "outputs": [],
   "source": [
    "import os\n",
    "os.environ[\"NEO4J_URI\"] = \"bolt://localhost:7687\"\n",
    "os.environ[\"NEO4J_USERNAME\"] = \"neo4j\"\n",
    "os.environ[\"NEO4J_PASSWORD\"] = \"password\""
   ]
  },
  {
   "cell_type": "code",
   "execution_count": null,
   "metadata": {},
   "outputs": [],
   "source": [
    "import pickle\n",
    "\n",
    "with open('samples/graph_docs.pkl', 'rb') as f:\n",
    "    loaded_graph_docs = pickle.load(f)"
   ]
  },
  {
   "cell_type": "code",
   "execution_count": null,
   "metadata": {},
   "outputs": [],
   "source": [
    "from langchain.graphs import Neo4jGraph\n",
    "from py2neo import Graph\n",
    "\n",
    "py_graph = Graph()\n",
    "n4j_graph = Neo4jGraph()\n",
    "vector_search_enabled = True\n",
    "index_name = \"content_embedding_index\"\n",
    "\n",
    "def init_graph(vector_search_enabled: bool):\n",
    "    py_graph.run(\"MATCH (n) DETACH DELETE n\")\n",
    "\n",
    "    if vector_search_enabled:\n",
    "        query = \"\"\"\n",
    "            CREATE VECTOR INDEX $index_name IF NOT EXISTS\n",
    "            FOR (n:Content) ON (n.embedding)\n",
    "            OPTIONS {\n",
    "                indexConfig: {\n",
    "                    `vector.dimensions`: 1024,\n",
    "                    `vector.similarity_function`: 'cosine'\n",
    "                }\n",
    "            }\n",
    "        \"\"\"\n",
    "        params = {\"index_name\": index_name}\n",
    "        py_graph.run(query, params)\n",
    "\n",
    "    py_graph.run(\"\"\"\n",
    "        CREATE FULLTEXT INDEX Search_Content_by_FullText IF NOT EXISTS\n",
    "        FOR (n:Content) \n",
    "        ON EACH [n.text] \n",
    "        OPTIONS { indexConfig: { `fulltext.analyzer`: \"english\"}}\n",
    "        \"\"\")\n",
    "\n",
    "init_graph(vector_search_enabled)"
   ]
  },
  {
   "cell_type": "code",
   "execution_count": null,
   "metadata": {},
   "outputs": [],
   "source": [
    "n4j_graph.add_graph_documents(\n",
    "  loaded_graph_docs, \n",
    "  baseEntityLabel=True\n",
    ")"
   ]
  },
  {
   "cell_type": "markdown",
   "metadata": {},
   "source": [
    "### Vector Search (Global)"
   ]
  },
  {
   "cell_type": "code",
   "execution_count": null,
   "metadata": {},
   "outputs": [],
   "source": [
    "from langchain_aws import BedrockEmbeddings\n",
    "from langchain.vectorstores import Neo4jVector\n",
    "\n",
    "if vector_search_enabled == True:\n",
    "    embeddings = BedrockEmbeddings(model_id=\"cohere.embed-multilingual-v3\", region_name=\"us-east-1\")\n",
    "\n",
    "    vector_store = Neo4jVector.from_existing_index(\n",
    "        embedding=embeddings,\n",
    "        index_name=\"content_embedding_index\",\n",
    "        node_label=\"Content\",\n",
    "        text_node_property=\"text\", \n",
    "        embedding_node_property=\"embedding\"\n",
    "    )\n",
    "\n",
    "    question = \"Bedrock에서 KnowledgeBase 성능을 최적화 하는 방법\"\n",
    "    question_embedding = embeddings.embed_query(question)\n",
    "    k=5\n",
    "\n",
    "    cypher_query = f\"\"\"\n",
    "        CALL db.index.vector.queryNodes('{index_name}', $k, $question_embedding) YIELD node, score\n",
    "        WHERE node:Content\n",
    "        RETURN node.text AS text, score, {{ }} AS metadata\n",
    "        ORDER BY score DESC\n",
    "    \"\"\"\n",
    "\n",
    "    params = {\n",
    "        \"question_embedding\": question_embedding,\n",
    "        \"k\": k\n",
    "    }\n",
    "\n",
    "    results = n4j_graph.query(cypher_query, params=params)\n",
    "\n",
    "    for result in results:\n",
    "        print(\"=================\\n\")\n",
    "        print(result['text'])\n",
    "        print(\"=================\\n\")"
   ]
  },
  {
   "cell_type": "markdown",
   "metadata": {},
   "source": [
    "### Vector Search (Local)"
   ]
  },
  {
   "cell_type": "code",
   "execution_count": null,
   "metadata": {},
   "outputs": [],
   "source": [
    "question = \"Bedrock에서 Function Calling 활용하는 방법\"\n",
    "parent_id = 1606\n",
    "k=5\n",
    "\n",
    "if vector_search_enabled == True:\n",
    "    embeddings = BedrockEmbeddings(model_id=\"cohere.embed-multilingual-v3\", region_name=\"us-east-1\")\n",
    "\n",
    "    question_embedding = embeddings.embed_query(question)\n",
    "\n",
    "    cypher_query = \"\"\"\n",
    "        MATCH (parent)-[:HAS_CONTENTS]->(child:Content)\n",
    "        WHERE id(parent) = $parent_id\n",
    "\n",
    "        CALL db.index.vector.queryNodes($index_name, $k, $question_embedding) YIELD node, score\n",
    "        WHERE node = child\n",
    "\n",
    "        RETURN node.text AS text, score, {} AS metadata\n",
    "        ORDER BY score DESC\n",
    "        LIMIT $k\n",
    "    \"\"\"\n",
    "\n",
    "    params = {\n",
    "        \"parent_id\": parent_id,\n",
    "        \"question_embedding\": question_embedding,\n",
    "        \"k\": k,\n",
    "        \"index_name\": index_name\n",
    "    }\n",
    "\n",
    "    vector_store = Neo4jVector.from_existing_index(\n",
    "        embedding=embeddings,\n",
    "        index_name=index_name,\n",
    "        node_label=\"Content\",\n",
    "        text_node_property=\"text\", \n",
    "        embedding_node_property=\"embedding\"\n",
    "    )\n",
    "\n",
    "    results = vector_store.query(cypher_query, params=params)\n",
    "\n",
    "    for result in results:\n",
    "        print(\"=================\\n\")\n",
    "        print(result['text'])\n",
    "        print(\"=================\\n\")\n",
    "\n"
   ]
  }
 ],
 "metadata": {
  "kernelspec": {
   "display_name": "base",
   "language": "python",
   "name": "python3"
  },
  "language_info": {
   "codemirror_mode": {
    "name": "ipython",
    "version": 3
   },
   "file_extension": ".py",
   "mimetype": "text/x-python",
   "name": "python",
   "nbconvert_exporter": "python",
   "pygments_lexer": "ipython3",
   "version": "3.10.9"
  }
 },
 "nbformat": 4,
 "nbformat_minor": 2
}
