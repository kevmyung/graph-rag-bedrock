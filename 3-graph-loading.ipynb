{
 "cells": [
  {
   "cell_type": "markdown",
   "metadata": {},
   "source": [
    "# Neo4j에 그래프 로드"
   ]
  },
  {
   "cell_type": "code",
   "execution_count": 22,
   "metadata": {},
   "outputs": [],
   "source": [
    "import os\n",
    "os.environ[\"NEO4J_URI\"] = \"bolt://localhost:7687\"\n",
    "os.environ[\"NEO4J_USERNAME\"] = \"neo4j\"\n",
    "os.environ[\"NEO4J_PASSWORD\"] = \"password\""
   ]
  },
  {
   "cell_type": "code",
   "execution_count": 23,
   "metadata": {},
   "outputs": [],
   "source": [
    "import pickle\n",
    "\n",
    "with open('samples/graph_docs.pkl', 'rb') as f:\n",
    "    loaded_graph_docs = pickle.load(f)"
   ]
  },
  {
   "cell_type": "code",
   "execution_count": 24,
   "metadata": {},
   "outputs": [
    {
     "name": "stderr",
     "output_type": "stream",
     "text": [
      "/home/ubuntu/.local/lib/python3.10/site-packages/langchain_community/graphs/neo4j_graph.py:370: ExperimentalWarning: The configuration may change in the future.\n",
      "  self._driver.verify_connectivity()\n"
     ]
    }
   ],
   "source": [
    "from langchain.graphs import Neo4jGraph\n",
    "from py2neo import Graph\n",
    "\n",
    "py_graph = Graph()\n",
    "n4j_graph = Neo4jGraph()\n",
    "vector_search_enabled = True\n",
    "index_name = \"content_embedding_index\""
   ]
  },
  {
   "cell_type": "code",
   "execution_count": 25,
   "metadata": {},
   "outputs": [],
   "source": [
    "def init_graph(vector_search_enabled: bool):\n",
    "    py_graph.run(\"MATCH (n) DETACH DELETE n\")\n",
    "\n",
    "    if vector_search_enabled:\n",
    "        query = \"\"\"\n",
    "            CREATE VECTOR INDEX $index_name IF NOT EXISTS\n",
    "            FOR (n:Content) ON (n.embedding)\n",
    "            OPTIONS {\n",
    "                indexConfig: {\n",
    "                    `vector.dimensions`: 1024,\n",
    "                    `vector.similarity_function`: 'cosine'\n",
    "                }\n",
    "            }\n",
    "        \"\"\"\n",
    "        params = {\"index_name\": index_name}\n",
    "        py_graph.run(query, params)\n",
    "\n",
    "    py_graph.run(\"\"\"\n",
    "        CREATE FULLTEXT INDEX Search_Content_by_FullText IF NOT EXISTS\n",
    "        FOR (n:Content) \n",
    "        ON EACH [n.text] \n",
    "        OPTIONS { indexConfig: { `fulltext.analyzer`: \"english\"}}\n",
    "        \"\"\")\n",
    "\n",
    "init_graph(vector_search_enabled)\n",
    "\n",
    "n4j_graph.add_graph_documents(\n",
    "  loaded_graph_docs, \n",
    "  baseEntityLabel=True\n",
    ")"
   ]
  },
  {
   "cell_type": "markdown",
   "metadata": {},
   "source": [
    "### Vector Search (Global)"
   ]
  },
  {
   "cell_type": "code",
   "execution_count": 54,
   "metadata": {},
   "outputs": [
    {
     "name": "stdout",
     "output_type": "stream",
     "text": [
      "=================\n",
      "\n",
      "learn how to define an action group with different methods. Topics - Define function details for your agent's action groups in Amazon Bedrock - Define OpenAPI schemas for your agent's action groups in Amazon Bedrock\n",
      "=================\n",
      "\n",
      "=================\n",
      "\n",
      "SDK or CLI - Scenarios for Agents for Amazon Bedrock using AWS SDKs - An end-to-end example showing how to create and invoke Amazon Bedrock agents using an AWS SDK - Build and orchestrate generative AI applications with Amazon Bedrock and Step Functions\n",
      "=================\n",
      "\n",
      "=================\n",
      "\n",
      "In the Action group type section, select one of the following methods for defining the parameters that the agent can elicit from users to help carry out actions: a. Define with function details – Define parameters for your agent to elicit from the user in order to carry out the actions. For more information on adding functions, see Define function details for your agent's action groups in Amazon Bedrock. b. Define with API schemas – Define the API operations that the agent can invoke and the parameters . Use an OpenAPI schema that you created or use the console text editor to create the schema. For more information on setting up an OpenAPI schema, see Define OpenAPI schemas for your agent's action groups in Amazon Bedrock 7. In the Action group invocation section, you set up what the agent does after it predicts the API or function that it should invoke and receives the parameters that it needs. Choose one of the following options: - Quick create a new Lambda function – recommended –\n",
      "=================\n",
      "\n",
      "=================\n",
      "\n",
      "When you create an action group in Amazon Bedrock, you must define the parameters that the agent needs to invoke from the user. You can also define API operations that the agent can invoke using these parameters. To define the API operations, create an OpenAPI schema in JSON or YAML format. You can create OpenAPI schema files and upload them to Amazon Simple Storage Service (Amazon S3). Alternatively, you can use the OpenAPI text editor in the console, which will validate your schema. After you create an agent, you can use the text editor when you add an action group to the agent or edit an existing action group. For more information, see Edit an agent. The agent uses the schema to determine the API operation that it needs to invoke and the parameters that are required to make the API request. These details are then sent through a Lambda function that you define to carry out the action or returned in the response of the agent invocation. Defining actions in the action group 660 For\n",
      "=================\n",
      "\n",
      "=================\n",
      "\n",
      "Agents for Amazon Bedrock - Create a service role for Knowledge bases for Amazon Bedrock - Create a service role for Prompt flows in Amazon Bedrock - Create a service role for Amazon Bedrock Studio - Create a provisioning role for Amazon Bedrock Studio\n",
      "=================\n",
      "\n"
     ]
    }
   ],
   "source": [
    "from langchain_aws import BedrockEmbeddings\n",
    "from langchain.vectorstores import Neo4jVector\n",
    "\n",
    "if vector_search_enabled == True:\n",
    "    embeddings = BedrockEmbeddings(model_id=\"cohere.embed-multilingual-v3\", region_name=\"us-east-1\")\n",
    "\n",
    "    vector_store = Neo4jVector.from_existing_index(\n",
    "        embedding=embeddings,\n",
    "        index_name=index_name,\n",
    "        node_label=\"Content\",\n",
    "        text_node_property=\"text\", \n",
    "        embedding_node_property=\"embedding\"\n",
    "    )\n",
    "\n",
    "    question = \"Bedrock의 Agent에서 API 스키마를 설정하는 방법\"    \n",
    "    question_embedding = embeddings.embed_query(question)\n",
    "    k=5\n",
    "\n",
    "    cypher_query = f\"\"\"\n",
    "        CALL db.index.vector.queryNodes('{index_name}', $k, $question_embedding) YIELD node, score\n",
    "        WITH DISTINCT node, score\n",
    "        WHERE node:Content\n",
    "        RETURN node.text AS text, score\n",
    "        ORDER BY score DESC\n",
    "    \"\"\"\n",
    "\n",
    "    params = {\n",
    "        \"question_embedding\": question_embedding,\n",
    "        \"k\": k\n",
    "    }\n",
    "\n",
    "    results = vector_store.query(cypher_query, params=params)\n",
    "\n",
    "    for result in results:\n",
    "        print(\"=================\\n\")\n",
    "        print(result['text'])\n",
    "        print(\"=================\\n\")"
   ]
  },
  {
   "cell_type": "markdown",
   "metadata": {},
   "source": [
    "### Vector Search (Node Level)"
   ]
  },
  {
   "cell_type": "code",
   "execution_count": 47,
   "metadata": {},
   "outputs": [
    {
     "name": "stdout",
     "output_type": "stream",
     "text": [
      "parent_id: 1404\n",
      "=================\n",
      "\n",
      "Node ID: 1405\n",
      "Text: When you create an action group in Amazon Bedrock, you must define the parameters that the agent needs to invoke from the user. You can also define API operations that the agent can invoke using these parameters. To define the API operations, create an OpenAPI schema in JSON or YAML format. You can create OpenAPI schema files and upload them to Amazon Simple Storage Service (Amazon S3). Alternatively, you can use the OpenAPI text editor in the console, which will validate your schema. After you create an agent, you can use the text editor when you add an action group to the agent or edit an existing action group. For more information, see Edit an agent. The agent uses the schema to determine the API operation that it needs to invoke and the parameters that are required to make the API request. These details are then sent through a Lambda function that you define to carry out the action or returned in the response of the agent invocation. Defining actions in the action group 660 For\n",
      "=================\n",
      "\n"
     ]
    }
   ],
   "source": [
    "if vector_search_enabled == True:\n",
    "\n",
    "    vector_store = Neo4jVector.from_existing_index(\n",
    "        embedding=embeddings,\n",
    "        index_name=index_name,\n",
    "        node_label=\"Content\",\n",
    "        text_node_property=\"text\", \n",
    "        embedding_node_property=\"embedding\"\n",
    "    )\n",
    "    \n",
    "    find_parent_query = \"\"\"\n",
    "    MATCH (parent:Title)\n",
    "    WHERE parent.value = $parent_value\n",
    "    RETURN id(parent) AS parent_id\n",
    "    \"\"\"\n",
    "\n",
    "    parent_params = {\n",
    "        \"parent_value\": \"Define OpenAPI schemas for your agent's action groups in Amazon Bedrock\"\n",
    "    }\n",
    "\n",
    "    parent_result = vector_store.query(find_parent_query, params=parent_params)\n",
    "    parent_id = parent_result[0]['parent_id'] if parent_result else None\n",
    "\n",
    "    print(\"parent_id:\", parent_id)\n",
    "    if parent_id is None:\n",
    "        print(\"Parent node not found\")\n",
    "    else:\n",
    "        embeddings = BedrockEmbeddings(model_id=\"cohere.embed-multilingual-v3\", region_name=\"us-east-1\")\n",
    "\n",
    "        question = \"Bedrock의 Agent에서 API 스키마를 설정하는 방법\"\n",
    "        question_embedding = embeddings.embed_query(question)\n",
    "        k=5\n",
    "        cypher_query = \"\"\"\n",
    "            MATCH (parent)-[:HAS_CONTENTS]->(child:Content)\n",
    "            WHERE id(parent) = $parent_id\n",
    "            WITH child\n",
    "            CALL db.index.vector.queryNodes($index_name, $k, $question_embedding) YIELD node, score\n",
    "            WHERE node = child\n",
    "            RETURN id(node) AS node_id, node.text AS text, score, {} AS metadata\n",
    "            ORDER BY score DESC\n",
    "            LIMIT $k\n",
    "        \"\"\"\n",
    "\n",
    "        params = {\n",
    "            \"parent_id\": parent_id,\n",
    "            \"question_embedding\": question_embedding,\n",
    "            \"k\": k,\n",
    "            \"index_name\": index_name\n",
    "        }\n",
    "\n",
    "        results = vector_store.query(cypher_query, params=params)\n",
    "\n",
    "        for result in results:\n",
    "            print(\"=================\\n\")\n",
    "            print(f\"Node ID: {result['node_id']}\")\n",
    "            print(f\"Text: {result['text']}\")\n",
    "            print(\"=================\\n\")\n",
    "\n"
   ]
  },
  {
   "cell_type": "markdown",
   "metadata": {},
   "source": [
    "### Vector Search (SubGraph Level)"
   ]
  },
  {
   "cell_type": "code",
   "execution_count": 53,
   "metadata": {},
   "outputs": [
    {
     "name": "stdout",
     "output_type": "stream",
     "text": [
      "=================\n",
      "\n",
      "Text: learn how to define an action group with different methods. Topics - Define function details for your agent's action groups in Amazon Bedrock - Define OpenAPI schemas for your agent's action groups in Amazon Bedrock\n",
      "=================\n",
      "\n",
      "=================\n",
      "\n",
      "Text: SDK or CLI - Scenarios for Agents for Amazon Bedrock using AWS SDKs - An end-to-end example showing how to create and invoke Amazon Bedrock agents using an AWS SDK - Build and orchestrate generative AI applications with Amazon Bedrock and Step Functions\n",
      "=================\n",
      "\n",
      "=================\n",
      "\n",
      "Text: In the Action group type section, select one of the following methods for defining the parameters that the agent can elicit from users to help carry out actions: a. Define with function details – Define parameters for your agent to elicit from the user in order to carry out the actions. For more information on adding functions, see Define function details for your agent's action groups in Amazon Bedrock. b. Define with API schemas – Define the API operations that the agent can invoke and the parameters . Use an OpenAPI schema that you created or use the console text editor to create the schema. For more information on setting up an OpenAPI schema, see Define OpenAPI schemas for your agent's action groups in Amazon Bedrock 7. In the Action group invocation section, you set up what the agent does after it predicts the API or function that it should invoke and receives the parameters that it needs. Choose one of the following options: - Quick create a new Lambda function – recommended –\n",
      "=================\n",
      "\n",
      "=================\n",
      "\n",
      "Text: When you create an action group in Amazon Bedrock, you must define the parameters that the agent needs to invoke from the user. You can also define API operations that the agent can invoke using these parameters. To define the API operations, create an OpenAPI schema in JSON or YAML format. You can create OpenAPI schema files and upload them to Amazon Simple Storage Service (Amazon S3). Alternatively, you can use the OpenAPI text editor in the console, which will validate your schema. After you create an agent, you can use the text editor when you add an action group to the agent or edit an existing action group. For more information, see Edit an agent. The agent uses the schema to determine the API operation that it needs to invoke and the parameters that are required to make the API request. These details are then sent through a Lambda function that you define to carry out the action or returned in the response of the agent invocation. Defining actions in the action group 660 For\n",
      "=================\n",
      "\n",
      "=================\n",
      "\n",
      "Text: Agents for Amazon Bedrock - Create a service role for Knowledge bases for Amazon Bedrock - Create a service role for Prompt flows in Amazon Bedrock - Create a service role for Amazon Bedrock Studio - Create a provisioning role for Amazon Bedrock Studio\n",
      "=================\n",
      "\n"
     ]
    }
   ],
   "source": [
    "if vector_search_enabled == True:\n",
    "\n",
    "    vector_store = Neo4jVector.from_existing_index(\n",
    "        embedding=embeddings,\n",
    "        index_name=index_name,\n",
    "        node_label=\"Content\",\n",
    "        text_node_property=\"text\", \n",
    "        embedding_node_property=\"embedding\"\n",
    "    )\n",
    "    \n",
    "    embeddings = BedrockEmbeddings(model_id=\"cohere.embed-multilingual-v3\", region_name=\"us-east-1\")\n",
    "\n",
    "    question = \"Bedrock의 Agent에서 API 스키마를 설정하는 방법\"\n",
    "    question_embedding = embeddings.embed_query(question)\n",
    "    k=5\n",
    "\n",
    "    subgraph = \"Amazon Bedrock\"\n",
    "    cypher_query = \"\"\"\n",
    "        MATCH (root:Title {level: \"1\", value: $subgraph})\n",
    "        MATCH (root)-[:HAS_CHILD*0..]->(title:Title)-[:HAS_CONTENTS]->(content:Content)\n",
    "\n",
    "        CALL db.index.vector.queryNodes($index_name, $k, $question_embedding) YIELD node, score\n",
    "        WHERE node = content\n",
    "\n",
    "        RETURN node.text AS text, score\n",
    "        ORDER BY score DESC\n",
    "        LIMIT $k\n",
    "    \"\"\"\n",
    "\n",
    "    params = {\n",
    "        \"subgraph\": subgraph,\n",
    "        \"question_embedding\": question_embedding,\n",
    "        \"k\": k,\n",
    "        \"index_name\": index_name\n",
    "    }\n",
    "\n",
    "    results = vector_store.query(cypher_query, params=params)\n",
    "\n",
    "    for result in results:\n",
    "        print(\"=================\\n\")\n",
    "        print(f\"Text: {result['text']}\")\n",
    "        print(\"=================\\n\")\n",
    "\n"
   ]
  },
  {
   "cell_type": "code",
   "execution_count": null,
   "metadata": {},
   "outputs": [],
   "source": []
  }
 ],
 "metadata": {
  "kernelspec": {
   "display_name": "base",
   "language": "python",
   "name": "python3"
  },
  "language_info": {
   "codemirror_mode": {
    "name": "ipython",
    "version": 3
   },
   "file_extension": ".py",
   "mimetype": "text/x-python",
   "name": "python",
   "nbconvert_exporter": "python",
   "pygments_lexer": "ipython3",
   "version": "3.10.9"
  }
 },
 "nbformat": 4,
 "nbformat_minor": 2
}
