{
 "cells": [
  {
   "cell_type": "markdown",
   "metadata": {},
   "source": [
    "# PDF 파일을 Markdown으로 변환해서 로드 "
   ]
  },
  {
   "cell_type": "markdown",
   "metadata": {},
   "source": [
    "### PyMuPDF4LLM 라이브러리 설치"
   ]
  },
  {
   "cell_type": "code",
   "execution_count": null,
   "metadata": {},
   "outputs": [],
   "source": [
    "%pip install pymupdf4llm"
   ]
  },
  {
   "cell_type": "markdown",
   "metadata": {},
   "source": [
    "### PDF 텍스트를 Markdown으로 로드 \n",
    "\n",
    "Bedrock 매뉴얼 PDF를 Markdown 형식의 문서로 로드하여, 중간 파일(`bedrock-manual.txt`)로 저장 \n",
    "\n",
    "원본 PDF 문서는 총 1625 페이지 분량으로, 약 10분 소요"
   ]
  },
  {
   "cell_type": "code",
   "execution_count": null,
   "metadata": {},
   "outputs": [],
   "source": [
    "import pymupdf4llm\n",
    "md_text_origin = pymupdf4llm.to_markdown(\"samples/bedrock-manual.pdf\")\n",
    "\n",
    "with open(\"bedrock-manual.txt\", \"w\", encoding=\"utf-8\") as file:\n",
    "    file.write(md_text_origin)"
   ]
  },
  {
   "cell_type": "markdown",
   "metadata": {},
   "source": [
    "저장된 중간 파일 읽어서 확인"
   ]
  },
  {
   "cell_type": "code",
   "execution_count": null,
   "metadata": {},
   "outputs": [],
   "source": [
    "with open(\"samples/bedrock-manual.txt\", \"r\", encoding=\"utf-8\") as file:\n",
    "    md_text_origin = file.read()\n",
    "\n",
    "print(md_text_origin)"
   ]
  }
 ],
 "metadata": {
  "kernelspec": {
   "display_name": "base",
   "language": "python",
   "name": "python3"
  },
  "language_info": {
   "codemirror_mode": {
    "name": "ipython",
    "version": 3
   },
   "file_extension": ".py",
   "mimetype": "text/x-python",
   "name": "python",
   "nbconvert_exporter": "python",
   "pygments_lexer": "ipython3",
   "version": "3.10.9"
  }
 },
 "nbformat": 4,
 "nbformat_minor": 2
}
